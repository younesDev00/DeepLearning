{
 "metadata": {
  "language_info": {
   "codemirror_mode": {
    "name": "ipython",
    "version": 3
   },
   "file_extension": ".py",
   "mimetype": "text/x-python",
   "name": "python",
   "nbconvert_exporter": "python",
   "pygments_lexer": "ipython3",
   "version": "3.8.8"
  },
  "orig_nbformat": 4,
  "kernelspec": {
   "name": "python3",
   "display_name": "Python 3.8.8 64-bit"
  },
  "interpreter": {
   "hash": "24410c0627170318ed2581b281411c639b4336d496d90092f8494f522cca50ad"
  }
 },
 "nbformat": 4,
 "nbformat_minor": 2,
 "cells": [
  {
   "cell_type": "code",
   "execution_count": 91,
   "metadata": {},
   "outputs": [],
   "source": [
    "import tensorflow as tf\n",
    "from keras.preprocessing.image import ImageDataGenerator"
   ]
  },
  {
   "cell_type": "code",
   "execution_count": 92,
   "metadata": {},
   "outputs": [
    {
     "output_type": "execute_result",
     "data": {
      "text/plain": [
       "'2.5.0'"
      ]
     },
     "metadata": {},
     "execution_count": 92
    }
   ],
   "source": [
    "tf.__version__"
   ]
  },
  {
   "cell_type": "code",
   "execution_count": 93,
   "metadata": {},
   "outputs": [
    {
     "output_type": "execute_result",
     "data": {
      "text/plain": [
       "True"
      ]
     },
     "metadata": {},
     "execution_count": 93
    }
   ],
   "source": [
    "tf.test.is_gpu_available()"
   ]
  },
  {
   "source": [
    "# Data Pre-Processing "
   ],
   "cell_type": "markdown",
   "metadata": {}
  },
  {
   "cell_type": "code",
   "execution_count": 94,
   "metadata": {},
   "outputs": [
    {
     "output_type": "stream",
     "name": "stdout",
     "text": [
      "Found 8000 images belonging to 2 classes.\n"
     ]
    }
   ],
   "source": [
    "# sets up the data generator with the required transformations\n",
    "train_datagen = ImageDataGenerator(\n",
    "    rescale=1./255,     # deafults from doc\n",
    "    shear_range=0.2,    # deafults from doc\n",
    "    zoom_range=0.2,      # deafults from doc\n",
    "    horizontal_flip=True)\n",
    "\n",
    "# Imports the training data set from the directories and resizes the images (for faster performance)\n",
    "training_set = train_datagen.flow_from_directory(\n",
    "    'dataset/training_set',     # path to training set\n",
    "    target_size=(64, 64),       # size of the images pixels X pixels\n",
    "    batch_size=32,              # 32 images per batch\n",
    "    class_mode='binary')        # type of outcome binary or catagorical, since we have 2 options we use binary"
   ]
  },
  {
   "source": [
    "## Pre processing test set\n",
    "\n",
    "the test data must be rescaled as well in order to increase our prediction accuracy "
   ],
   "cell_type": "markdown",
   "metadata": {}
  },
  {
   "cell_type": "code",
   "execution_count": 95,
   "metadata": {},
   "outputs": [
    {
     "output_type": "stream",
     "name": "stdout",
     "text": [
      "Found 2000 images belonging to 2 classes.\n"
     ]
    }
   ],
   "source": [
    "# Creates an image data generator that will rescale our test set\n",
    "test_datagen = ImageDataGenerator(rescale=1./255)\n",
    "\n",
    "test_set = test_datagen.flow_from_directory(\n",
    "        'dataset/test_set',\n",
    "        target_size=(64, 64),\n",
    "        batch_size=32,\n",
    "        class_mode='binary')"
   ]
  },
  {
   "source": [
    "# Building the CNN"
   ],
   "cell_type": "markdown",
   "metadata": {}
  },
  {
   "source": [
    "## Initilising the CNN"
   ],
   "cell_type": "markdown",
   "metadata": {}
  },
  {
   "cell_type": "code",
   "execution_count": 96,
   "metadata": {},
   "outputs": [],
   "source": [
    "cnn = tf.keras.models.Sequential()"
   ]
  },
  {
   "source": [
    "## Step 1 Convolution"
   ],
   "cell_type": "markdown",
   "metadata": {}
  },
  {
   "cell_type": "code",
   "execution_count": 97,
   "metadata": {},
   "outputs": [],
   "source": [
    "cnn.add(tf.keras.layers.Conv2D(filters=32, kernel_size=3, activation='relu', input_shape=[64, 64, 3]))"
   ]
  },
  {
   "source": [
    "## Step 2 Pooling"
   ],
   "cell_type": "markdown",
   "metadata": {}
  },
  {
   "cell_type": "code",
   "execution_count": 98,
   "metadata": {},
   "outputs": [],
   "source": [
    "cnn.add(tf.keras.layers.MaxPool2D(pool_size = 2, strides = 2))"
   ]
  },
  {
   "source": [
    "## add a second conv and pooling layer"
   ],
   "cell_type": "markdown",
   "metadata": {}
  },
  {
   "cell_type": "code",
   "execution_count": 99,
   "metadata": {},
   "outputs": [],
   "source": [
    "cnn.add(tf.keras.layers.Conv2D(filters = 32, kernel_size = 3, activation='relu'))\n"
   ]
  },
  {
   "cell_type": "code",
   "execution_count": 100,
   "metadata": {},
   "outputs": [],
   "source": [
    "cnn.add(tf.keras.layers.MaxPool2D(pool_size = 2, strides = 2))\n"
   ]
  },
  {
   "source": [
    "## step 3 flattening"
   ],
   "cell_type": "markdown",
   "metadata": {}
  },
  {
   "cell_type": "code",
   "execution_count": 101,
   "metadata": {},
   "outputs": [],
   "source": [
    "cnn.add(tf.keras.layers.Flatten())"
   ]
  },
  {
   "source": [
    "## step 4 full connection"
   ],
   "cell_type": "markdown",
   "metadata": {}
  },
  {
   "cell_type": "code",
   "execution_count": 102,
   "metadata": {},
   "outputs": [],
   "source": [
    "cnn.add(tf.keras.layers.Dense(units = 128, activation = 'relu'))"
   ]
  },
  {
   "cell_type": "code",
   "execution_count": 103,
   "metadata": {},
   "outputs": [],
   "source": [
    "cnn.add(tf.keras.layers.Dense(units = 1, activation = 'sigmoid'))"
   ]
  },
  {
   "source": [
    "# Training the model"
   ],
   "cell_type": "markdown",
   "metadata": {}
  },
  {
   "source": [
    "## Compiling the CNN"
   ],
   "cell_type": "markdown",
   "metadata": {}
  },
  {
   "cell_type": "code",
   "execution_count": 104,
   "metadata": {},
   "outputs": [],
   "source": [
    "cnn.compile(optimizer = 'adam', loss = 'binary_crossentropy', metrics = ['accuracy'])"
   ]
  },
  {
   "source": [
    "## Training on the training set then evaluating on the test set"
   ],
   "cell_type": "markdown",
   "metadata": {}
  },
  {
   "cell_type": "code",
   "execution_count": 105,
   "metadata": {},
   "outputs": [
    {
     "output_type": "stream",
     "name": "stdout",
     "text": [
      "Epoch 1/5\n",
      "250/250 [==============================] - 31s 121ms/step - loss: 0.6586 - accuracy: 0.6014 - val_loss: 0.5944 - val_accuracy: 0.6895\n",
      "Epoch 2/5\n",
      "250/250 [==============================] - 26s 104ms/step - loss: 0.5877 - accuracy: 0.6861 - val_loss: 0.5528 - val_accuracy: 0.7320\n",
      "Epoch 3/5\n",
      "250/250 [==============================] - 25s 101ms/step - loss: 0.5385 - accuracy: 0.7234 - val_loss: 0.5714 - val_accuracy: 0.7185\n",
      "Epoch 4/5\n",
      "250/250 [==============================] - 28s 112ms/step - loss: 0.5193 - accuracy: 0.7364 - val_loss: 0.5119 - val_accuracy: 0.7455\n",
      "Epoch 5/5\n",
      "250/250 [==============================] - 31s 122ms/step - loss: 0.5053 - accuracy: 0.7565 - val_loss: 0.4797 - val_accuracy: 0.7675\n"
     ]
    },
    {
     "output_type": "execute_result",
     "data": {
      "text/plain": [
       "<tensorflow.python.keras.callbacks.History at 0x23ce3a9d100>"
      ]
     },
     "metadata": {},
     "execution_count": 105
    }
   ],
   "source": [
    "cnn.fit(x = training_set, validation_data = test_set, epochs = 5)\n",
    "# batch_size = Integer or None. Number of samples per gradient update. If unspecified, batch_size will default to 32. Do not specify the batch_size if your data is in the form of datasets, generators, or keras.utils.Sequence instances (since they generate batches)."
   ]
  },
  {
   "cell_type": "code",
   "execution_count": 106,
   "metadata": {},
   "outputs": [
    {
     "output_type": "stream",
     "name": "stdout",
     "text": [
      "INFO:tensorflow:Assets written to: cnn_model\\assets\n"
     ]
    }
   ],
   "source": [
    "cnn.save('cnn_model')\n",
    "new_model = tf.keras.models.load_model('cnn_model')"
   ]
  },
  {
   "source": [
    "# Making a prediction"
   ],
   "cell_type": "markdown",
   "metadata": {}
  },
  {
   "cell_type": "code",
   "execution_count": 108,
   "metadata": {},
   "outputs": [
    {
     "output_type": "stream",
     "name": "stdout",
     "text": [
      "0.0\ncat\n"
     ]
    }
   ],
   "source": [
    "import numpy as np\n",
    "from keras.preprocessing import image\n",
    "test_image = image.load_img('dataset/single_prediction/cat_or_dog_4.jpg', target_size = (64, 64))\n",
    "test_image = image.img_to_array(test_image)\n",
    "test_image = np.expand_dims(test_image, axis = 0)\n",
    "result = cnn.predict(test_image)\n",
    "training_set.class_indices\n",
    "print(result[0][0])\n",
    "prediction = ''\n",
    "if result[0][0] == 1.0:\n",
    "  prediction = 'dog'\n",
    "else:\n",
    "  prediction = 'cat'\n",
    "print(prediction)\n"
   ]
  },
  {
   "cell_type": "code",
   "execution_count": 67,
   "metadata": {},
   "outputs": [
    {
     "output_type": "stream",
     "name": "stdout",
     "text": [
      "(1, 64, 64, 3)\n"
     ]
    }
   ],
   "source": [
    "print(np.shape(test_image))\n",
    "#(batch, images, vertical pixels, horizontal pixels)"
   ]
  },
  {
   "cell_type": "code",
   "execution_count": null,
   "metadata": {},
   "outputs": [],
   "source": [
    "[ (batches)\n",
    "    [ (image 1)\n",
    "        [ (vertical pixels)\n",
    "            [ (horizontal pixels)\n",
    "                [255,255,255],\n",
    "                [255,255,255],\n",
    "                [255,255,255],\n",
    "                ...image width = 64\n",
    "            ]\n",
    "        ], \n",
    "        [ \n",
    "            [\n",
    "                [255,255,255],\n",
    "                [255,255,255],\n",
    "                [255,255,255],\n",
    "                ...image width = 64\n",
    "            ]\n",
    "        ],\n",
    "        ...image height = 64 \n",
    "    ],\n",
    "    [ (image 2)\n",
    "        [ (vertical pixels)\n",
    "            [ (horizontal pixels)\n",
    "                [255,255,255],\n",
    "                [255,255,255],\n",
    "                [255,255,255],\n",
    "                ...image width = 64\n",
    "            ]\n",
    "        ], \n",
    "        [ \n",
    "            [\n",
    "                [255,255,255],\n",
    "                [255,255,255],\n",
    "                [255,255,255],\n",
    "                ...image width = 64\n",
    "            ]\n",
    "        ],\n",
    "        ...image height = 64 \n",
    "    ],\n",
    "    ... number of images per batch = 32     \n",
    "]"
   ]
  }
 ]
}